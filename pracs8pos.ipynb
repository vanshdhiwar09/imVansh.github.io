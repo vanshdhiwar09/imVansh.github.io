{
  "nbformat": 4,
  "nbformat_minor": 0,
  "metadata": {
    "colab": {
      "provenance": [],
      "mount_file_id": "1GQdkS-bdIefcHvATjbbT4Gk7SCxHWwh-",
      "authorship_tag": "ABX9TyN+qonFL1qr4JK1aDg7TuwX",
      "include_colab_link": true
    },
    "kernelspec": {
      "name": "python3",
      "display_name": "Python 3"
    },
    "language_info": {
      "name": "python"
    }
  },
  "cells": [
    {
      "cell_type": "markdown",
      "metadata": {
        "id": "view-in-github",
        "colab_type": "text"
      },
      "source": [
        "<a href=\"https://colab.research.google.com/github/vanshdhiwar09/imVansh.github.io/blob/main/pracs8pos.ipynb\" target=\"_parent\"><img src=\"https://colab.research.google.com/assets/colab-badge.svg\" alt=\"Open In Colab\"/></a>"
      ]
    },
    {
      "cell_type": "code",
      "execution_count": 12,
      "metadata": {
        "id": "5uebqdKSYYdm",
        "colab": {
          "base_uri": "https://localhost:8080/"
        },
        "outputId": "895c69d0-cc26-4ea5-e591-b369d49a2404"
      },
      "outputs": [
        {
          "output_type": "stream",
          "name": "stdout",
          "text": [
            "System is in a safe state.\n",
            "Safe sequence is:  1 -> 3 -> 0 -> 2 -> 4\n"
          ]
        }
      ],
      "source": [
        "#Prcatical 8 Program to illustrate Banker's Algorithm\n",
        "P = 5  # Number of processes\n",
        "R = 3  # Number of resources\n",
        "\n",
        "def calculateNeed(need, maxm, allot):\n",
        "    for i in range(P):\n",
        "        for j in range(R):\n",
        "            need[i][j] = maxm[i][j] - allot[i][j]\n",
        "\n",
        "def isSafe(processes, avail, maxm, allot):\n",
        "    need = [[0] * R for _ in range(P)]\n",
        "    calculateNeed(need, maxm, allot)\n",
        "\n",
        "    finish = [0] * P\n",
        "    safeSeq = [0] * P\n",
        "    work = avail.copy()\n",
        "    count = 0\n",
        "\n",
        "    while count < P:\n",
        "        found = False\n",
        "        for p in range(P):\n",
        "            if finish[p] == 0:\n",
        "                if all(need[p][j] <= work[j] for j in range(R)):\n",
        "                    for k in range(R):\n",
        "                        work[k] += allot[p][k]\n",
        "                    safeSeq[count] = p\n",
        "                    count += 1\n",
        "                    finish[p] = 1\n",
        "                    found = True\n",
        "                    break\n",
        "\n",
        "        if not found:\n",
        "            print(\"System is not in a safe state\")\n",
        "            return False\n",
        "\n",
        "    print(\"System is in a safe state.\")\n",
        "    print(\"Safe sequence is: \", ' -> '.join(map(str, safeSeq)))\n",
        "    return True\n",
        "\n",
        "if __name__ == \"__main__\":\n",
        "    processes = [0, 1, 2, 3, 4]\n",
        "    avail = [3, 3, 2]\n",
        "    maxm = [\n",
        "        [7, 5, 3],\n",
        "        [3, 2, 2],\n",
        "        [9, 0, 2],\n",
        "        [2, 2, 2],\n",
        "        [4, 3, 3]\n",
        "    ]\n",
        "    allot = [\n",
        "        [0, 1, 0],\n",
        "        [2, 0, 0],\n",
        "        [3, 0, 2],\n",
        "        [2, 1, 1],\n",
        "        [0, 0, 2]\n",
        "    ]\n",
        "\n",
        "    isSafe(processes, avail, maxm, allot)\n"
      ]
    },
    {
      "cell_type": "code",
      "source": [],
      "metadata": {
        "id": "5oMjuSMAa9gB"
      },
      "execution_count": null,
      "outputs": []
    }
  ]
}